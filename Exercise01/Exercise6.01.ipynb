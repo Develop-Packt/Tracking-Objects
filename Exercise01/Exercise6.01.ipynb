{
 "cells": [
  {
   "cell_type": "code",
   "execution_count": 1,
   "metadata": {},
   "outputs": [],
   "source": [
    "# Import modules\n",
    "import cv2\n",
    "import numpy as np"
   ]
  },
  {
   "cell_type": "code",
   "execution_count": 2,
   "metadata": {},
   "outputs": [],
   "source": [
    "# Create a VideoCapture Object\n",
    "cap = cv2.VideoCapture(\"../data/lemon.mp4\")"
   ]
  },
  {
   "cell_type": "code",
   "execution_count": 3,
   "metadata": {},
   "outputs": [],
   "source": [
    "if cap.isOpened() == False:\n",
    "    print(\"Error opening video\")"
   ]
  },
  {
   "cell_type": "code",
   "execution_count": 4,
   "metadata": {},
   "outputs": [],
   "source": [
    "cv2.namedWindow(\"Input Video\", cv2.WINDOW_NORMAL)\n",
    "cv2.namedWindow(\"Output Video\", cv2.WINDOW_NORMAL)\n",
    "cv2.namedWindow(\"Hue\", cv2.WINDOW_NORMAL)"
   ]
  },
  {
   "cell_type": "code",
   "execution_count": 5,
   "metadata": {},
   "outputs": [],
   "source": [
    "while True:\n",
    "    # capture frame\n",
    "    ret, frame = cap.read()\n",
    "\n",
    "    if ret == False:\n",
    "        break\n",
    "    \n",
    "    # Convert frame to HSV\n",
    "    hsv = cv2.cvtColor(frame, cv2.COLOR_BGR2HSV)\n",
    "    \n",
    "    # Obtain Hue channel\n",
    "    h = hsv[:,:,0]\n",
    "\n",
    "    # Apply thresholding\n",
    "    hCopy = h.copy()\n",
    "    h[hCopy>40] = 0\n",
    "    h[hCopy<=40] = 1\n",
    "\n",
    "    # Display frame\n",
    "    cv2.imshow(\"Input Video\", frame)\n",
    "    cv2.imshow(\"Output Video\", frame*h[:,:,np.newaxis])\n",
    "    cv2.imshow(\"Hue\", h*255)\n",
    "\n",
    "    k = cv2.waitKey(10)\n",
    "    if k == 27:\n",
    "        break"
   ]
  },
  {
   "cell_type": "code",
   "execution_count": 6,
   "metadata": {},
   "outputs": [],
   "source": [
    "cap.release()\n",
    "cv2.destroyAllWindows()"
   ]
  }
 ],
 "metadata": {
  "kernelspec": {
   "display_name": "Python 3",
   "language": "python",
   "name": "python3"
  },
  "language_info": {
   "codemirror_mode": {
    "name": "ipython",
    "version": 3
   },
   "file_extension": ".py",
   "mimetype": "text/x-python",
   "name": "python",
   "nbconvert_exporter": "python",
   "pygments_lexer": "ipython3",
   "version": "3.7.1"
  }
 },
 "nbformat": 4,
 "nbformat_minor": 2
}
