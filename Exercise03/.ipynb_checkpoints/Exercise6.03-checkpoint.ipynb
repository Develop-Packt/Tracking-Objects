{
 "cells": [
  {
   "cell_type": "code",
   "execution_count": null,
   "metadata": {},
   "outputs": [],
   "source": [
    "# Import modules\n",
    "import cv2\n",
    "import numpy as np\n",
    "import dlib"
   ]
  },
  {
   "cell_type": "code",
   "execution_count": null,
   "metadata": {},
   "outputs": [],
   "source": [
    "# Create a VideoCapture Object\n",
    "video = cv2.VideoCapture(\"../data/people.mp4\")"
   ]
  },
  {
   "cell_type": "code",
   "execution_count": null,
   "metadata": {},
   "outputs": [],
   "source": [
    "# Check if video opened successfully\n",
    "if video.isOpened() == False:\n",
    "    print(\"Could not open video!\")"
   ]
  },
  {
   "cell_type": "code",
   "execution_count": null,
   "metadata": {},
   "outputs": [],
   "source": [
    "# Read first frame\n",
    "ret, frame = video.read()"
   ]
  },
  {
   "cell_type": "code",
   "execution_count": null,
   "metadata": {},
   "outputs": [],
   "source": [
    "# Check if frame read successfully\n",
    "if ret == False:\n",
    "    print(\"Cannot read video\")"
   ]
  },
  {
   "cell_type": "code",
   "execution_count": null,
   "metadata": {},
   "outputs": [],
   "source": [
    "# Show the first frame\n",
    "cv2.imshow(\"First Frame\",frame)\n",
    "cv2.waitKey(0)"
   ]
  },
  {
   "cell_type": "code",
   "execution_count": null,
   "metadata": {},
   "outputs": [],
   "source": [
    "# Specify the initial bounding box\n",
    "bbox = cv2.selectROI(frame)"
   ]
  },
  {
   "cell_type": "code",
   "execution_count": null,
   "metadata": {},
   "outputs": [],
   "source": [
    "cv2.destroyAllWindows()"
   ]
  },
  {
   "cell_type": "code",
   "execution_count": null,
   "metadata": {},
   "outputs": [],
   "source": [
    "# Convert frame to RGB\n",
    "rgb = cv2.cvtColor(frame,cv2.COLOR_BGR2RGB)"
   ]
  },
  {
   "cell_type": "code",
   "execution_count": null,
   "metadata": {},
   "outputs": [],
   "source": [
    "# Convert bbox to Dlib rectangle\n",
    "(topLeftX, topLeftY, w, h) = bbox\n",
    "bottomRightX = topLeftX + w\n",
    "bottomRightY = topLeftY + h"
   ]
  },
  {
   "cell_type": "code",
   "execution_count": null,
   "metadata": {},
   "outputs": [],
   "source": [
    "dlibRect = dlib.rectangle(topLeftX, topLeftY, bottomRightX, bottomRightY)"
   ]
  },
  {
   "cell_type": "code",
   "execution_count": null,
   "metadata": {},
   "outputs": [],
   "source": [
    "# Create tracker\n",
    "tracker = dlib.correlation_tracker()"
   ]
  },
  {
   "cell_type": "code",
   "execution_count": null,
   "metadata": {},
   "outputs": [],
   "source": [
    "# Initialize tracker\n",
    "tracker.start_track(rgb, dlibRect)"
   ]
  },
  {
   "cell_type": "code",
   "execution_count": null,
   "metadata": {},
   "outputs": [],
   "source": [
    "# Create a new window where we will display\n",
    "# the results\n",
    "cv2.namedWindow(\"Tracker\")\n",
    "# Display the first frame\n",
    "cv2.imshow(\"Tracker\",frame)"
   ]
  },
  {
   "cell_type": "code",
   "execution_count": null,
   "metadata": {},
   "outputs": [],
   "source": [
    "while True:\n",
    "    \n",
    "    # Read next frame\n",
    "    ret, frame = video.read()\n",
    "    \n",
    "    # Check if frame was read\n",
    "    if ret == False:\n",
    "        break\n",
    "    # Convert frame to RGB\n",
    "    rgb = cv2.cvtColor(frame,cv2.COLOR_BGR2RGB)\n",
    "    # Update tracker\n",
    "    tracker.update(rgb)\n",
    "    \n",
    "    objectPosition = tracker.get_position()\n",
    "    \n",
    "    topLeftX = int(objectPosition.left())\n",
    "\n",
    "    topLeftY = int(objectPosition.top())\n",
    "    \n",
    "    bottomRightX = int(objectPosition.right())\n",
    "\n",
    "    bottomRightY = int(objectPosition.bottom())\n",
    "    \n",
    "    # Create bounding box\n",
    "    cv2.rectangle(frame, (topLeftX, topLeftY), (bottomRightX, bottomRightY), (0,0,255), 2) \n",
    "        \n",
    "    # Display frame\n",
    "    cv2.imshow(\"Tracker\",frame)\n",
    "    k = cv2.waitKey(5)\n",
    "    if k == 27:\n",
    "        break"
   ]
  },
  {
   "cell_type": "code",
   "execution_count": null,
   "metadata": {},
   "outputs": [],
   "source": [
    "cv2.destroyAllWindows()"
   ]
  }
 ],
 "metadata": {
  "kernelspec": {
   "display_name": "Python 3",
   "language": "python",
   "name": "python3"
  },
  "language_info": {
   "codemirror_mode": {
    "name": "ipython",
    "version": 3
   },
   "file_extension": ".py",
   "mimetype": "text/x-python",
   "name": "python",
   "nbconvert_exporter": "python",
   "pygments_lexer": "ipython3",
   "version": "3.7.1"
  }
 },
 "nbformat": 4,
 "nbformat_minor": 2
}
